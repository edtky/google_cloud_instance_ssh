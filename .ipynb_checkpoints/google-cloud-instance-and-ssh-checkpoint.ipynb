{
 "cells": [
  {
   "cell_type": "markdown",
   "metadata": {},
   "source": [
    "# Creating a Google Cloud instance with SSH for your team\n",
    "**Author:** Edward T (edwardtky@berkeley.edu)\n",
    "\n",
    "Follow these steps to create a basic virtual machine instance on Google Cloud and enable your team to ssh into the instance.\n"
   ]
  },
  {
   "cell_type": "markdown",
   "metadata": {},
   "source": [
    "***\n",
    "## Step 1 - Create a new virtual machine (VM) instance\n",
    "***"
   ]
  },
  {
   "cell_type": "markdown",
   "metadata": {},
   "source": [
    "### Step 1a\n",
    "\n",
    "1. Open Google Cloud 'Navigation Menu' (top left corner button)\n",
    "2. Hover over 'Compute Engine'  \n",
    "3. Click 'VM Instances'"
   ]
  },
  {
   "cell_type": "markdown",
   "metadata": {},
   "source": [
    "![title](images/1_create_instance.png)"
   ]
  },
  {
   "cell_type": "markdown",
   "metadata": {},
   "source": [
    "### Step 1b\n",
    "\n",
    "1. Click 'CREATE INSTANCE'"
   ]
  },
  {
   "cell_type": "markdown",
   "metadata": {},
   "source": [
    "![title](images/2_create_instance.png)"
   ]
  },
  {
   "cell_type": "markdown",
   "metadata": {},
   "source": [
    "## Step 1c\n",
    "\n",
    "1. Use the settings shown below for the following field:\n",
    "    - Name (just a unique title for your instance)\n",
    "    - Region (choose somewhere close to where you are to reduce latency)\n",
    "    - Zone (not very important)\n",
    "    - Machine Type (can increase number of vCPUs or add GPUs)\n",
    "    - Boot disk (recommended to use Ubuntu 14.04 LTS)\n",
    "    - ***or change it according to your requirement***\n",
    "2. Check \"Allow HTTPS traffic\""
   ]
  },
  {
   "cell_type": "markdown",
   "metadata": {},
   "source": [
    "![title](images/3_create_instance.png)"
   ]
  },
  {
   "cell_type": "markdown",
   "metadata": {},
   "source": [
    "#### Great! Your instance has been setup and it will be ready in ~60 seconds."
   ]
  },
  {
   "cell_type": "markdown",
   "metadata": {},
   "source": [
    "***\n",
    "## Step 2 - Create SSH key pairs\n",
    "\n",
    "Meanwhile, you will need to create SSH key pairs to remotely access the instance via the terminal.\n",
    "***"
   ]
  },
  {
   "cell_type": "markdown",
   "metadata": {},
   "source": [
    "### Step 2.1\n",
    "\n",
    "1. Open terminal on your local machine\n",
    "2. Run the following code, with:\n",
    "    - [KEY_FILENAME] as the name you want to use for your SSH key files, eg. edwardkey\n",
    "    - [USERNAME] is the user for whom you will apply this SSH key, eg. edward"
   ]
  },
  {
   "cell_type": "code",
   "execution_count": null,
   "metadata": {},
   "outputs": [],
   "source": [
    "ssh-keygen -t rsa -f ~/.ssh/[KEY_FILENAME] -C [USERNAME]"
   ]
  },
  {
   "cell_type": "markdown",
   "metadata": {},
   "source": [
    "### Step 2.2\n",
    "\n",
    "1. Restrict access to your private key by running the following code:  \n",
    "(this is to ensure only you can read it)\n",
    "    - remember to use the correct [KEY_FILENAME] eg. edwardkey"
   ]
  },
  {
   "cell_type": "code",
   "execution_count": null,
   "metadata": {},
   "outputs": [],
   "source": [
    "chmod 400 ~/.ssh/[KEY_FILENAME]"
   ]
  },
  {
   "cell_type": "markdown",
   "metadata": {},
   "source": [
    "***\n",
    "## Step 3 - Copy and add public key to Google Cloud\n",
    "***"
   ]
  },
  {
   "cell_type": "markdown",
   "metadata": {},
   "source": [
    "### Step 3.1\n",
    "\n",
    "1. Run the following code to copy your public key\n",
    "    - remember to use the correct [KEY_FILENAME] eg. edwardkey"
   ]
  },
  {
   "cell_type": "code",
   "execution_count": null,
   "metadata": {},
   "outputs": [],
   "source": [
    "pbcopy < ~/.ssh/[KEY_FILENAME].pub"
   ]
  },
  {
   "cell_type": "markdown",
   "metadata": {},
   "source": [
    "### Step 3.2\n",
    "\n",
    "1. Open Google Cloud 'Navigation Menu' (top left corner button)\n",
    "2. Click 'Compute Engine'\n",
    "3. Click 'Metadata'\n",
    "4. Click 'SSH-Keys'\n",
    "5. Click 'Edit'"
   ]
  },
  {
   "cell_type": "markdown",
   "metadata": {},
   "source": [
    "![title](images/7_add_public_key.png)"
   ]
  },
  {
   "cell_type": "markdown",
   "metadata": {},
   "source": [
    "### Step 3.3\n",
    "1. Paste the copied public key (in text form) into the field 'Enter entire key data'\n",
    "    -  notice that the username should auto populate eg. edward\n",
    "2. Click 'Save'"
   ]
  },
  {
   "cell_type": "markdown",
   "metadata": {},
   "source": [
    "![title](images/8_add_public_key.png)"
   ]
  },
  {
   "cell_type": "markdown",
   "metadata": {},
   "source": [
    "### Step 3.4 - Repeat for every team member\n",
    "\n",
    "Repeat Steps 2.1 to 3.3 for each member in your team"
   ]
  },
  {
   "cell_type": "markdown",
   "metadata": {},
   "source": [
    "#### Great! Now, you're done with creating your SSH keys and adding them to your instance."
   ]
  },
  {
   "cell_type": "markdown",
   "metadata": {},
   "source": [
    "***\n",
    "## Step 4 - Edit instance settings\n",
    "\n",
    "To enable your team to remotely access the Google Cloud instance through SSH, we need to configure some simple settings.\n",
    "***"
   ]
  },
  {
   "cell_type": "markdown",
   "metadata": {},
   "source": [
    "### Step 4.1 - Configure Firewall Rules\n",
    "1. Open Google Cloud 'Navigation Menu' (top left corner button)\n",
    "2. Scroll down the 'Navigation Menu'\n",
    "3. Hover over 'VPC network'\n",
    "4. Click 'Firewall rules"
   ]
  },
  {
   "cell_type": "markdown",
   "metadata": {},
   "source": [
    "![title](images/4_firewall_ssh.png)"
   ]
  },
  {
   "cell_type": "markdown",
   "metadata": {},
   "source": [
    "5. Ensure that there is a rule \"default allow ssh\"\n"
   ]
  },
  {
   "cell_type": "markdown",
   "metadata": {},
   "source": [
    "![title](images/5_firewall_ssh.png)"
   ]
  },
  {
   "cell_type": "markdown",
   "metadata": {},
   "source": [
    "### Step 4.2 - Configure External IP Address\n",
    "1. Open Google Cloud 'Navigation Menu' (top left corner button)\n",
    "2. Scroll down the 'Navigation Menu'\n",
    "3. Click 'VPC network'\n",
    "4. Click 'External IP addresses\"\n",
    "5. Under 'Type', change \"Emphemeral\" to \"Static\"\n",
    "6. Name your static ip address, eg. \"ganip\"\n"
   ]
  },
  {
   "cell_type": "markdown",
   "metadata": {},
   "source": [
    "![title](images/6_static_ip.png)"
   ]
  },
  {
   "cell_type": "markdown",
   "metadata": {},
   "source": [
    "### Great! You're all set!"
   ]
  },
  {
   "cell_type": "markdown",
   "metadata": {},
   "source": [
    "***\n",
    "## Step 5 - Finally..\n",
    "\n",
    "Now, you are read to SSH remotely into the instance.\n",
    "***"
   ]
  },
  {
   "cell_type": "markdown",
   "metadata": {},
   "source": [
    "### Step 5.1 - Get the following info ready..\n",
    "\n",
    "1. [PATH_TO_PRIVATE_KEY]\n",
    "    - Locate your private key and copy the path\n",
    "    - eg. ~/.ssh/edwardkey\n",
    "2. [USERNAME]\n",
    "    - You can find that at Google Cloud Navigation Menu > Metadata > SSH Keys, under the column 'Username'\n",
    "    - eg. edward\n",
    "3. [EXTERNAL_IP_ADDRESS]\n",
    "    - You can find that at Google Cloud Navigation Menu > VM Instances, under column 'External IP'\n",
    "    - eg. 35.237.153.189"
   ]
  },
  {
   "cell_type": "markdown",
   "metadata": {},
   "source": [
    "### Step 5.2\n",
    "1. Open Terminal\n",
    "2. Enter the following code, with the corresponding info found in 5.1:\n",
    "    - [PATH_TO_PRIVATE_KEY]\n",
    "    - [USERNAME]\n",
    "    - [EXTERNAL_IP_ADDRESS]"
   ]
  },
  {
   "cell_type": "code",
   "execution_count": null,
   "metadata": {},
   "outputs": [],
   "source": [
    "ssh -i [PATH_TO_PRIVATE_KEY] [USERNAME]@[EXTERNAL_IP_ADDRESS]"
   ]
  },
  {
   "cell_type": "markdown",
   "metadata": {},
   "source": [
    "For example.."
   ]
  },
  {
   "cell_type": "code",
   "execution_count": null,
   "metadata": {},
   "outputs": [],
   "source": [
    "ssh -i ~/.ssh/edwardkey edward@35.237.153.189"
   ]
  },
  {
   "cell_type": "markdown",
   "metadata": {},
   "source": [
    "#### If you are successful, you should see a block of text starting with something like this:\n",
    "\n",
    "Welcome to Ubuntu 16.04.5 LTS (GNU/Linux 4.15.0-1021-gcp x86_64)  \n",
    "...  \n",
    "...  \n",
    "..."
   ]
  },
  {
   "cell_type": "markdown",
   "metadata": {},
   "source": [
    "***\n",
    "## Congratulations! You have successfully setup your Google Cloud VM instance and enabled your team to SSH remotely into the instance.\n",
    "***"
   ]
  },
  {
   "cell_type": "markdown",
   "metadata": {},
   "source": [
    "### References:\n",
    "\n",
    "1. https://cloud.google.com/compute/docs/instances/connecting-advanced#provide-key\n",
    "2. https://docs.joyent.com/public-cloud/getting-started/ssh-keys/generating-an-ssh-key-manually/manually-generating-your-ssh-key-in-mac-os-x"
   ]
  }
 ],
 "metadata": {
  "kernelspec": {
   "display_name": "Python 3",
   "language": "python",
   "name": "python3"
  },
  "language_info": {
   "codemirror_mode": {
    "name": "ipython",
    "version": 3
   },
   "file_extension": ".py",
   "mimetype": "text/x-python",
   "name": "python",
   "nbconvert_exporter": "python",
   "pygments_lexer": "ipython3",
   "version": "3.6.5"
  }
 },
 "nbformat": 4,
 "nbformat_minor": 2
}
